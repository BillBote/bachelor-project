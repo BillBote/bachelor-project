{
 "cells": [
  {
   "cell_type": "code",
   "execution_count": 19,
   "metadata": {},
   "outputs": [],
   "source": [
    "import networkx as nx\n",
    "import matplotlib.pyplot as plt\n",
    "import numpy as np\n",
    "\n",
    "def data_load(filename):  #data loading \n",
    "    data_raw=np.loadtxt(filename,dtype=\"int\")\n",
    "    l=len(data_raw)\n",
    "    s=[]\n",
    "    for i in range(l):\n",
    "        s.append(data_raw[i][0])\n",
    "        s.append(data_raw[i][1])\n",
    "    s=list(set(s))\n",
    "    dic={}\n",
    "    for i in range(len(s)):\n",
    "        dic[s[i]]=i\n",
    "    for i in range(l):\n",
    "        data_raw[i][0]=dic[data_raw[i][0]]\n",
    "        data_raw[i][1]=dic[data_raw[i][1]]\n",
    "    return data_raw\n",
    "\n",
    "\n",
    "def graph_adj(data,node_num):  #adj matrix generator\n",
    "    adj=np.zeros((node_num,node_num))\n",
    "    for i in range(node_num):\n",
    "        adj[data[i][0]][data[i][1]]=1\n",
    "        adj[data[i][1]][data[i][0]]=1\n",
    "    return adj\n",
    "\n",
    "def graph_plot(data): # graph ploting\n",
    "    G=nx.Graph()\n",
    "    for i in range(len(data)):\n",
    "        G.add_edge(data[i][0],data[i][1])\n",
    "    nx.draw(G,node_size=3)\n",
    "    plt.show()\n",
    "\n",
    "def graph_deg(adj):  #generate degree matrix\n",
    "    deg=[]\n",
    "    for i in range(len(adj)):\n",
    "        deg.append(np.sum(adj[i]))\n",
    "    return deg\n",
    "\n",
    "def deg_dist(data_deg):# generate distribution of degree\n",
    "    deg_set=list(set(data_deg))\n",
    "    dist={}\n",
    "    for i in range(len(deg_set)):\n",
    "        s=0\n",
    "        for j in range(len(data_deg)):\n",
    "            if data_deg[j]==deg_set[i]:\n",
    "                s=s+1\n",
    "        s=s/len(data_deg)\n",
    "        dist[deg_set[i]]=s\n",
    "    return dist\n",
    "\n",
    "def ecdf(dist,x): #ecdf function for a certain distribution\n",
    "    xs=[]\n",
    "    for key in dist.keys():\n",
    "        xs.append(key)\n",
    "    xs=sorted(xs)\n",
    "    p=0\n",
    "    for i in range(len(xs)):\n",
    "        if x>=xs[i]:\n",
    "            p=p+dist[xs[i]]\n",
    "    return(p)\n",
    "\n",
    "def KS_statistic(dist1,dist2,x_list): # calculate ks statistic\n",
    "    ks=0\n",
    "    for x in x_list:\n",
    "        if abs(ecdf(dist1,x)-ecdf(dist2,x))>ks:\n",
    "            ks=abs(ecdf(dist1,x)-ecdf(dist2,x))\n",
    "    return ks\n",
    "\n",
    "def data_map(node,edge):\n",
    "    import copy\n",
    "    node0=sorted(list(set(node)))\n",
    "    node_new=list(range(len(node0)))\n",
    "    edge_new=copy.deepcopy(edge)\n",
    "    for i in range(len(edge)):\n",
    "        edge_new[i][0]=node0.index(edge[i][0])\n",
    "        edge_new[i][1]=node0.index(edge[i][1])\n",
    "    return node_new,edge_new\n",
    "\n",
    "def get_friend(adj,node):#obtain the friend node for a node\n",
    "    friend=[]\n",
    "    for i in range(len(adj)):\n",
    "        if adj[node][i]==1:\n",
    "            friend.append(i)\n",
    "    return friend\n",
    "\n",
    "def graph_plot(data): # graph ploting\n",
    "    G=nx.Graph()\n",
    "    for i in range(len(data)):\n",
    "        G.add_edge(data[i][0],data[i][1])\n",
    "    return G\n",
    "\n",
    "\n",
    "data_facebook=data_load(\"facebook_combined.txt\")\n",
    "adj_facebook=graph_adj(data_facebook,4039)\n",
    "deg_facebook=graph_deg(adj_facebook)\n",
    "dist_facebook=deg_dist(deg_facebook)"
   ]
  },
  {
   "cell_type": "code",
   "execution_count": 20,
   "metadata": {},
   "outputs": [],
   "source": [
    "import random\n",
    "\n",
    "#rw\n",
    "def rw(adj_raw,k):\n",
    "\tl=len(adj_raw)\n",
    "\tr0=random.sample(range(l),1)[0]\n",
    "\tedge=[]\n",
    "\tnode=[]\n",
    "\tnode.append(r0)\n",
    "\ti=0\n",
    "\twhile i<k:\n",
    "\t\tnode0=adj_raw[r0]\n",
    "\t\tindex=list(np.array(range(1,l+1))*node0)\n",
    "\t\twhile 0 in index:\n",
    "\t\t\tindex.remove(0)\n",
    "\t\tif len(index)>0:\n",
    "\t\t\tr1=int(random.sample(index,1)[0])-1\n",
    "\t\t\tedge.append([r0,r1])\n",
    "\t\t\tnode.append(r1)\n",
    "\t\t\tr0=r1\n",
    "\t\t\ti=i+1\n",
    "\t\telse:\n",
    "\t\t\tr0=random.sample(range(l),1)[0]\n",
    "\t\t\tnode.append(r0)\n",
    "\treturn node,edge\n"
   ]
  },
  {
   "cell_type": "code",
   "execution_count": 21,
   "metadata": {},
   "outputs": [],
   "source": [
    "# mhrw\n",
    "def mhrw(adj_raw,deg_raw,k):\n",
    "    l=len(adj_raw)\n",
    "    r0=random.sample(range(l),1)[0]\n",
    "    edge=[]\n",
    "    node=[]\n",
    "    node.append(r0)\n",
    "    i=0\n",
    "    while i<k:\n",
    "        node0=adj_raw[r0]\n",
    "        index=list(np.array(range(1,l+1))*node0)\n",
    "        while 0 in index:\n",
    "            index.remove(0)\n",
    "        if len(index)>0:\n",
    "            r1=int(random.sample(index,1)[0])-1\n",
    "        else:\n",
    "            r0=random.sample(range(l),1)[0]\n",
    "            node.append(r0)\n",
    "            continue\n",
    "        p=random.uniform(0,1)\n",
    "        if deg_raw[r0]/deg_raw[r1]>=p:\n",
    "            edge.append([r0,r1])\n",
    "            node.append(r1)\n",
    "            r0=r1\n",
    "            i=i+1  \n",
    "    return node,edge      "
   ]
  },
  {
   "cell_type": "code",
   "execution_count": 11,
   "metadata": {},
   "outputs": [
    {
     "name": "stdout",
     "output_type": "stream",
     "text": [
      "0.3265782384130961\n"
     ]
    }
   ],
   "source": [
    "#node sample\n",
    "node=random.sample(range(4039),808)\n",
    "node=sorted(node)\n",
    "adj_node=[]\n",
    "for i in node:\n",
    "\tadj=list(adj_facebook[i][node])\n",
    "\tadj_node.append(adj)\n",
    "deg_node=graph_deg(adj_node)\n",
    "dist_node=deg_dist(deg_node)\n",
    "\n",
    "x_list=[]\n",
    "for key in dist_node.keys():\n",
    "\tx_list.append(key)\n",
    "ks_node=KS_statistic(dist_facebook,dist_node,x_list)\n",
    "print(ks_node)"
   ]
  },
  {
   "cell_type": "code",
   "execution_count": 22,
   "metadata": {},
   "outputs": [],
   "source": [
    "#rwrw\n",
    "def rwrw(adj_raw,k):\n",
    "\tl=len(adj_raw)\n",
    "\tr0=random.sample(range(l),1)[0]\n",
    "\tedge=[]\n",
    "\tnode=[]\n",
    "\tnode.append(r0)\n",
    "\ti=0\n",
    "\twhile i<k:\n",
    "\t\tnode0=adj_raw[r0]\n",
    "\t\tindex=list(np.array(range(1,l+1))*node0)\n",
    "\t\twhile 0 in index:\n",
    "\t\t\tindex.remove(0)\n",
    "\t\tif len(index)>0:\n",
    "\t\t\tr1=int(random.sample(index,1)[0])-1\n",
    "\t\t\tedge.append([r0,r1])\n",
    "\t\t\tnode.append(r1)\n",
    "\t\t\tr0=r1\n",
    "\t\t\ti=i+1\n",
    "\t\telse:\n",
    "\t\t\tr0=random.sample(range(l),1)[0]\n",
    "\t\t\tnode.append(r0)\n",
    "\treturn node,edge\n",
    "\n",
    "def rwrw_dist(data_deg):# generate distribution of degree\n",
    "    while 0 in data_deg:\n",
    "        data_deg.remove(0)\n",
    "    deg_set=list(set(data_deg))\n",
    "    s_total=0\n",
    "    for i in range(len(data_deg)):\n",
    "    \ts_total=s_total+1/data_deg[i]\n",
    "    dist={}\n",
    "    for i in range(len(deg_set)):\n",
    "        s=0\n",
    "        for j in range(len(data_deg)):\n",
    "            if data_deg[j]==deg_set[i]:\n",
    "                s=s+1/deg_set[i]\n",
    "        s=s/s_total\n",
    "        dist[deg_set[i]]=s\n",
    "    return dist"
   ]
  },
  {
   "cell_type": "code",
   "execution_count": 100,
   "metadata": {},
   "outputs": [],
   "source": [
    "#ff\n",
    "def random_node(adj):\n",
    "\treturn random.sample(range(len(adj)),1)[0]\n",
    "\n",
    "def sample_node(nodes,k):\n",
    "\tif len(nodes)<=k:\n",
    "\t\treturn nodes\n",
    "\telse:\n",
    "\t\treturn random.sample(nodes,k)\n",
    "\n",
    "def forestfire(adj,center,max_depth=1,current_depth=0,taboo_list=[],edge_list=[]):\n",
    "\tif current_depth==max_depth:\n",
    "\t\tprint(\"out of depth\")\n",
    "\t\treturn edge_list\n",
    "\tif center in taboo_list:\n",
    "\t\treturn edge_list\n",
    "\telse:\n",
    "\t\ttaboo_list.append(center)\n",
    "\n",
    "\tfriends=get_friend(adj,center)\n",
    "\tk=np.random.geometric(0.1)\n",
    "\tif len(friends)==0:\n",
    "\t\tfriends_k=[random_node(adj)]\n",
    "\telse:\n",
    "\t\tfriends_k=sample_node(friends,k)\n",
    "\tfor node in friends_k:\n",
    "\t\tedge_list.append([center,node])\n",
    "\t\tedge_list=forestfire(adj,node,max_depth=max_depth,current_depth=current_depth+1,taboo_list=taboo_list,edge_list=edge_list)\n",
    "\treturn edge_list"
   ]
  },
  {
   "cell_type": "code",
   "execution_count": 24,
   "metadata": {},
   "outputs": [],
   "source": [
    "#sbs\n",
    "def random_node(adj):\n",
    "\treturn random.sample(range(len(adj)),1)[0]\n",
    "\n",
    "def sample_node(nodes,k):\n",
    "\tif len(nodes)<=k:\n",
    "\t\treturn nodes\n",
    "\telse:\n",
    "\t\treturn random.sample(nodes,k)\n",
    "\n",
    "def snowBall(adj,center,max_depth=1,current_depth=0,taboo_list=[],edge_list=[],k=1):\n",
    "\tif current_depth==max_depth:\n",
    "\t\tprint(\"out of depth\")\n",
    "\t\treturn edge_list\n",
    "\tif center in taboo_list:\n",
    "\t\treturn edge_list\n",
    "\telse:\n",
    "\t\ttaboo_list.append(center)\n",
    "\n",
    "\tfriends=get_friend(adj,center)\n",
    "\tif len(friends)==0:\n",
    "\t\tfriends_k=[random_node(adj)]\n",
    "\telse:\n",
    "\t\tfriends_k=sample_node(friends,k)\n",
    "\tfor node in friends_k:\n",
    "\t\tedge_list.append([center,node])\n",
    "\t\tedge_list=snowBall(adj,node,max_depth=max_depth,current_depth=current_depth+1,taboo_list=taboo_list,edge_list=edge_list,k=k)\n",
    "\treturn edge_list"
   ]
  },
  {
   "cell_type": "code",
   "execution_count": 13,
   "metadata": {},
   "outputs": [
    {
     "data": {
      "text/plain": [
       "<matplotlib.legend.Legend at 0x11b037390>"
      ]
     },
     "execution_count": 13,
     "metadata": {},
     "output_type": "execute_result"
    },
    {
     "data": {
      "image/png": "[encoded data removed]",
      "text/plain": [
       "<Figure size 432x288 with 1 Axes>"
      ]
     },
     "metadata": {
      "needs_background": "light"
     },
     "output_type": "display_data"
    }
   ],
   "source": [
    "x=[1,2,3,4,5]\n",
    "y1=[1,4,9,16,25]\n",
    "y2=[2,4,6,8,10]\n",
    "y3=[6,7,8,9,10]\n",
    "plt.plot(x, y1, color='green', label='training accuracy')\n",
    "plt.plot(x, y2, color='red', label='testing accuracy')\n",
    "plt.plot(x, y3,  color='skyblue', label='PN distance')\n",
    "plt.legend()"
   ]
  },
  {
   "cell_type": "code",
   "execution_count": 15,
   "metadata": {},
   "outputs": [],
   "source": [
    "# rw graph\n",
    "g_rwrw=[]\n",
    "for i in [100,200,400,600,1000,1200,1500,2000,2200]:\n",
    "    nodes,edges=rw(adj_facebook,i)\n",
    "    G=nx.Graph()\n",
    "    for edge in edges:\n",
    "        G.add_edge(edge[0],edge[1])\n",
    "    g_rwrw.append(G)"
   ]
  },
  {
   "cell_type": "code",
   "execution_count": null,
   "metadata": {},
   "outputs": [],
   "source": [
    "#rw D-ststistic\n",
    "node,edge=rw(adj_facebook,100)\n",
    "node_rw,edge_rw=data_map(node,edge)\n",
    "adj_rw=graph_adj(edge_rw,len(node_rw))\n",
    "deg_rw=graph_deg(adj_rw)\n",
    "dist_rw=deg_dist(deg_rw)\n",
    "x_list=[]\n",
    "for key in dist_rw.keys():\n",
    "    x_list.append(key)\n",
    "\n",
    "ks_rw=KS_statistic(dist_facebook,dist_rw,x_list)\n",
    "print(ks_rw)"
   ]
  },
  {
   "cell_type": "code",
   "execution_count": null,
   "metadata": {},
   "outputs": [],
   "source": [
    "#rwrw D-ststistic\n",
    "node,edge=rwrw(adj_facebook,100)\n",
    "node_rwrw,edge_rwrw=data_map(node,edge)\n",
    "adj_rwrw=graph_adj(edge_rwrw,len(node_rwrw))\n",
    "#graph_plot(edge)\n",
    "deg_rwrw=graph_deg(adj_rwrw)\n",
    "dist_rwrw=rwrw_dist(deg_rwrw)\n",
    "\n",
    "x_list=[]\n",
    "for key in dist_rwrw.keys():\n",
    "\tx_list.append(key)\n",
    "ks_rwrw=KS_statistic(dist_facebook,dist_rwrw,x_list)\n",
    "\n",
    "print(ks_rwrw)"
   ]
  },
  {
   "cell_type": "code",
   "execution_count": 25,
   "metadata": {},
   "outputs": [],
   "source": [
    "#rwrw graph\n",
    "g_rw=[]\n",
    "for i in [100,200,400,600,1000,1200,1500,2000,2200]:\n",
    "    nodes,edges=rw(adj_facebook,i)\n",
    "    G=nx.Graph()\n",
    "    for edge in edges:\n",
    "        G.add_edge(edge[0],edge[1])\n",
    "    g_rw.append(G)"
   ]
  },
  {
   "cell_type": "code",
   "execution_count": 156,
   "metadata": {},
   "outputs": [],
   "source": [
    "#forestfire graph\n",
    "g_ff=[]\n",
    "for i in range(20):\n",
    "    center=random_node(adj_facebook)\n",
    "    edges=forestfire(adj_facebook,center,max_depth=200000,current_depth=0,taboo_list=[],edge_list=[])\n",
    "    G=nx.Graph()\n",
    "    for edge in edges:\n",
    "        G.add_edge(edge[0],edge[1])\n",
    "    g_ff.append(G)"
   ]
  },
  {
   "cell_type": "code",
   "execution_count": null,
   "metadata": {},
   "outputs": [],
   "source": [
    "# forestfire D-statistic\n",
    "edge=forestfire(adj_facebook,random_node(adj_facebook),max_depth=500,current_depth=0)\n",
    "node=[]\n",
    "for i in range(len(edge)):\n",
    "\tnode.append(edge[i][0])\n",
    "\tnode.append(edge[i][1])\n",
    "node_ff,edge_ff=data_map(node,edge)\n",
    "adj_ff=graph_adj(edge_ff,len(node_ff))\n",
    "deg_ff=graph_deg(adj_ff)\n",
    "dist_ff=deg_dist(deg_ff)\n",
    "\n",
    "x_list=[]\n",
    "for key in dist_ff.keys():\n",
    "    x_list.append(key)\n",
    "\n",
    "ks_ff=KS_statistic(dist_facebook,dist_ff,x_list)\n",
    "print(ks_ff)"
   ]
  },
  {
   "cell_type": "code",
   "execution_count": 3,
   "metadata": {},
   "outputs": [],
   "source": [
    "g=[]\n",
    "G1=nx.Graph()\n",
    "G1.add_edge(1,2)\n",
    "G1.add_edge(1,3)\n",
    "G1.add_edge(2,3)\n",
    "G2=nx.Graph()\n",
    "G2.add_edge(1,2)\n",
    "G2.add_edge(1,3)\n",
    "G2.add_edge(2,3)\n",
    "g.append(G1)\n",
    "g.append(G2)"
   ]
  },
  {
   "cell_type": "code",
   "execution_count": 27,
   "metadata": {},
   "outputs": [],
   "source": [
    "# mhrw graph\n",
    "g_mhrw=[]\n",
    "for i in [100,200,400,600,1000,1200,1500,2000,2200]:\n",
    "    nodes,edges=mhrw(adj_facebook,deg_facebook,i)\n",
    "    G=nx.Graph()\n",
    "    for edge in edges:\n",
    "        G.add_edge(edge[0],edge[1])\n",
    "    g_mhrw.append(G)"
   ]
  },
  {
   "cell_type": "code",
   "execution_count": null,
   "metadata": {},
   "outputs": [],
   "source": [
    "# mhrw D-statistic\n",
    "\n",
    "node,edge=mhrw(adj_facebook,deg_facebook,100)\n",
    "node_mhrw,edge_mhrw=data_map(node,edge)\n",
    "adj_mhrw=graph_adj(edge_mhrw,len(node_mhrw))\n",
    "deg_mhrw=graph_deg(adj_mhrw)\n",
    "dist_mhrw=deg_dist(deg_mhrw)\n",
    "\n",
    "x_list=[]\n",
    "for key in dist_mhrw.keys():\n",
    "    x_list.append(key)\n",
    "\n",
    "ks_mhrw=KS_statistic(dist_facebook,dist_mhrw,x_list)\n",
    "print(ks_mhrw)"
   ]
  },
  {
   "cell_type": "code",
   "execution_count": 208,
   "metadata": {},
   "outputs": [],
   "source": [
    "# sbs graph\n",
    "g_sbs=[]\n",
    "for i in range(100):\n",
    "    center=random_node(adj_facebook)\n",
    "    edges=snowBall(adj_facebook,random_node(adj_facebook),max_depth=500,current_depth=0,k=20,taboo_list=[],edge_list=[])\n",
    "    G=nx.Graph()\n",
    "    for edge in edges:\n",
    "        G.add_edge(edge[0],edge[1])\n",
    "    g_sbs.append(G)"
   ]
  },
  {
   "cell_type": "code",
   "execution_count": null,
   "metadata": {},
   "outputs": [],
   "source": [
    "# sbs D-statistic\n",
    "\n",
    "edge=snowBall(adj_facebook,random_node(adj_facebook),max_depth=500,current_depth=0,k=20)\n",
    "node=[]\n",
    "for i in range(len(edge)):\n",
    "\tnode.append(edge[i][0])\n",
    "\tnode.append(edge[i][1])\n",
    "node_sbs,edge_sbs=data_map(node,edge)\n",
    "adj_sbs=graph_adj(edge_sbs,len(node_sbs))\n",
    "deg_sbs=graph_deg(adj_sbs)\n",
    "dist_sbs=deg_dist(deg_sbs)\n",
    "\n",
    "x_list=[]\n",
    "for key in dist_sbs.keys():\n",
    "    x_list.append(key)\n",
    "\n",
    "ks_sbs=KS_statistic(dist_facebook,dist_sbs,x_list)\n",
    "print(ks_sbs)"
   ]
  },
  {
   "cell_type": "code",
   "execution_count": 297,
   "metadata": {},
   "outputs": [],
   "source": [
    "node_rwrw=[]\n",
    "edge_rwrw=[]\n",
    "dia_rwrw=[]\n",
    "clu_rwrw=[]\n",
    "cc_rwrw=[]\n",
    "for i in range(len(g_rwrw)):\n",
    "    node_rwrw.append(g_rwrw[i].number_of_nodes())\n",
    "    edge_rwrw.append(g_rwrw[i].number_of_edges())\n",
    "    dia_rwrw.append(nx.diameter(g_rwrw[i]))\n",
    "    clu_rwrw.append(nx.average_clustering(g_rwrw[i]))\n",
    "    cc_rwrw.append(nx.number_connected_components(g_rwrw[i]))"
   ]
  },
  {
   "cell_type": "code",
   "execution_count": 278,
   "metadata": {},
   "outputs": [
    {
     "data": {
      "text/plain": [
       "<matplotlib.legend.Legend at 0x12cd2a0b8>"
      ]
     },
     "execution_count": 278,
     "metadata": {},
     "output_type": "execute_result"
    },
    {
     "data": {
      "image/png": "[encoded data removed]",
      "text/plain": [
       "<Figure size 432x288 with 1 Axes>"
      ]
     },
     "metadata": {
      "needs_background": "light"
     },
     "output_type": "display_data"
    }
   ],
   "source": [
    "plt.plot([92, 115, 184, 349,516, 655 ,913, 1366, 1365],[73, 109, 185, 294,  496, 432,555, 388, 593],label=\"rwrw\",color=\"red\")\n",
    "plt.plot([96, 110, 174, 249,560, 700 ,908, 1403],[80, 200, 236, 294,  490, 507,570,623],label=\"rw\",color=\"blue\")\n",
    "plt.title(\"node vs edge\")\n",
    "plt.xlabel(\"number of node\")\n",
    "plt.ylabel(\"number of edge\")\n",
    "plt.legend()"
   ]
  },
  {
   "cell_type": "code",
   "execution_count": 280,
   "metadata": {},
   "outputs": [],
   "source": [
    "node_sbs=[]\n",
    "edge_sbs=[]\n",
    "dia_sbs=[]\n",
    "clu_sbs=[]\n",
    "cc_sbs=[]\n",
    "for i in range(len(g_sbs)):\n",
    "    node_sbs.append(g_sbs[i].number_of_nodes())\n",
    "    edge_sbs.append(g_sbs[i].number_of_edges())\n",
    "    dia_sbs.append(nx.diameter(g_sbs[i]))\n",
    "    clu_sbs.append(nx.average_clustering(g_sbs[i]))\n",
    "    cc_sbs.append(nx.number_connected_components(g_sbs[i]))"
   ]
  },
  {
   "cell_type": "code",
   "execution_count": 289,
   "metadata": {},
   "outputs": [],
   "source": [
    "node_ff=[]\n",
    "edge_ff=[]\n",
    "dia_ff=[]\n",
    "clu_ff=[]\n",
    "cc_ff=[]\n",
    "for i in range(len(g_ff)):\n",
    "    node_ff.append(g_ff[i].number_of_nodes())\n",
    "    edge_ff.append(g_ff[i].number_of_edges())\n",
    "    dia_ff.append(nx.diameter(g_ff[i]))\n",
    "    clu_ff.append(nx.average_clustering(g_ff[i]))\n",
    "    cc_ff.append(nx.number_connected_components(g_ff[i]))"
   ]
  },
  {
   "cell_type": "code",
   "execution_count": 281,
   "metadata": {},
   "outputs": [],
   "source": [
    "node_rw=[]\n",
    "edge_rw=[]\n",
    "dia_rw=[]\n",
    "clu_rw=[]\n",
    "cc_rw=[]\n",
    "for i in range(len(g_rw)):\n",
    "    node_rw.append(g_rw[i].number_of_nodes())\n",
    "    edge_rw.append(g_rw[i].number_of_edges())\n",
    "    dia_rw.append(nx.diameter(g_rw[i]))\n",
    "    clu_rw.append(nx.average_clustering(g_rw[i]))\n",
    "    cc_rw.append(nx.number_connected_components(g_rw[i]))"
   ]
  },
  {
   "cell_type": "code",
   "execution_count": 283,
   "metadata": {},
   "outputs": [],
   "source": [
    "node_mhrw=[]\n",
    "edge_mhrw=[]\n",
    "dia_mhrw=[]\n",
    "clu_mhrw=[]\n",
    "cc_mhrw=[]\n",
    "for i in range(len(g_mhrw)):\n",
    "    node_mhrw.append(g_mhrw[i].number_of_nodes())\n",
    "    edge_mhrw.append(g_mhrw[i].number_of_edges())\n",
    "    dia_mhrw.append(nx.diameter(g_mhrw[i]))\n",
    "    clu_mhrw.append(nx.average_clustering(g_mhrw[i]))\n",
    "    cc_mhrw.append(nx.number_connected_components(g_mhrw[i]))"
   ]
  },
  {
   "cell_type": "code",
   "execution_count": 292,
   "metadata": {},
   "outputs": [
    {
     "name": "stdout",
     "output_type": "stream",
     "text": [
      "[51, 122, 185, 260, 400, 362, 405, 678, 517]\n",
      "[50, 172, 322, 445, 402, 866, 1057, 1120, 1424]\n",
      "[2, 11, 10, 8, 3, 9, 8, 9, 8]\n",
      "[0.0, 0.07999159310634718, 0.12174887771105784, 0.0709720613898333, 0.0058333966220692045, 0.09412760868416578, 0.12093943120670757, 0.056996265688505514, 0.1675593927318945]\n",
      "[1, 1, 1, 1, 1, 1, 1, 1, 1]\n"
     ]
    }
   ],
   "source": [
    "print(node_rw)\n",
    "print(edge_rw)\n",
    "print(dia_rw)\n",
    "print(clu_rw)\n",
    "print(cc_rw)"
   ]
  },
  {
   "cell_type": "code",
   "execution_count": 300,
   "metadata": {},
   "outputs": [
    {
     "name": "stdout",
     "output_type": "stream",
     "text": [
      "[0.0, 0.0058333966220692045, 0.056996265688505514, 0.0709720613898333, 0.07999159310634718, 0.09412760868416578, 0.12093943120670757, 0.12174887771105784, 0.1675593927318945]\n"
     ]
    }
   ],
   "source": [
    "print(sorted(clu_rw))"
   ]
  },
  {
   "cell_type": "code",
   "execution_count": null,
   "metadata": {},
   "outputs": [],
   "source": [
    "nodes_rw=[51, 122, 185, 260, 400, 362, 405, 678, 517]\n",
    "edges_rw=[50, 172, 322, 445, 402, 866, 1057, 1120, 1424]\n",
    "dias_rw=[2, 11, 10, 8, 3, 9, 8, 9, 8]\n",
    "clus_rw=[0.0, 0.07999159310634718, 0.12174887771105784, 0.0709720613898333, 0.0058333966220692045, 0.09412760868416578, 0.12093943120670757, 0.056996265688505514, 0.1675593927318945]"
   ]
  },
  {
   "cell_type": "code",
   "execution_count": 298,
   "metadata": {},
   "outputs": [
    {
     "name": "stdout",
     "output_type": "stream",
     "text": [
      "[73, 109, 185, 294, 432, 496, 555, 388, 593]\n",
      "[92, 115, 184, 349, 655, 516, 913, 1366, 1365]\n",
      "[13, 11, 2, 10, 10, 10, 8, 7, 7]\n",
      "[0.08474156786002073, 0.022062035823503714, 0.0, 0.026530359281885185, 0.06711957203605569, 0.019892560552725595, 0.07675485464091224, 0.2164926466758808, 0.10662504429880218]\n",
      "[1, 1, 1, 1, 1, 1, 1, 1, 1]\n"
     ]
    }
   ],
   "source": [
    "print(node_rwrw)\n",
    "print(edge_rwrw)\n",
    "print(dia_rwrw)\n",
    "print(clu_rwrw)\n",
    "print(cc_rwrw)"
   ]
  },
  {
   "cell_type": "code",
   "execution_count": null,
   "metadata": {},
   "outputs": [],
   "source": [
    "nodes_rwrw=[73, 109, 185, 294, 432, 496, 555, 388, 593]\n",
    "edges_rwrw=[92, 115, 184, 349, 655, 516, 913, 1366, 1365]\n",
    "dias_rwrw=[]"
   ]
  },
  {
   "cell_type": "code",
   "execution_count": 294,
   "metadata": {},
   "outputs": [
    {
     "name": "stdout",
     "output_type": "stream",
     "text": [
      "[33, 112, 118, 291, 289, 361, 304, 295, 350]\n",
      "[56, 139, 174, 413, 637, 617, 823, 991, 1122]\n",
      "[6, 13, 13, 13, 9, 14, 10, 10, 10]\n",
      "[0.2008658008658009, 0.06426445578231293, 0.18691200513234416, 0.06666720019036124, 0.11216077384406303, 0.11691895362255478, 0.20634749675735714, 0.2620070136728058, 0.2518990507122289]\n",
      "[1, 1, 1, 1, 1, 1, 1, 1, 1]\n"
     ]
    }
   ],
   "source": [
    "print(node_mhrw)\n",
    "print(edge_mhrw)\n",
    "print(dia_mhrw)\n",
    "print(clu_mhrw)\n",
    "print(cc_mhrw)"
   ]
  },
  {
   "cell_type": "code",
   "execution_count": 295,
   "metadata": {},
   "outputs": [
    {
     "name": "stdout",
     "output_type": "stream",
     "text": [
      "[5, 354, 5, 21, 16, 329, 3, 4, 22, 7, 334, 320, 315, 8, 5, 10, 328, 12, 12, 327]\n",
      "[4, 1696, 4, 20, 15, 1645, 2, 3, 21, 6, 1722, 1617, 1540, 7, 4, 9, 1710, 11, 11, 1716]\n",
      "[2, 9, 3, 4, 4, 7, 2, 3, 7, 3, 8, 7, 6, 5, 3, 3, 5, 3, 2, 6]\n",
      "[0.0, 0.39583081410666193, 0.0, 0.0, 0.0, 0.38944230116708106, 0.0, 0.0, 0.0, 0.0, 0.4082687473699675, 0.3727360031278235, 0.32504175119544654, 0.0, 0.0, 0.0, 0.38438227905192596, 0.0, 0.0, 0.3972149554635143]\n",
      "[1, 1, 1, 1, 1, 1, 1, 1, 1, 1, 1, 1, 1, 1, 1, 1, 1, 1, 1, 1]\n"
     ]
    }
   ],
   "source": [
    "print(node_ff)\n",
    "print(edge_ff)\n",
    "print(dia_ff)\n",
    "print(clu_ff)\n",
    "print(cc_ff)"
   ]
  },
  {
   "cell_type": "code",
   "execution_count": null,
   "metadata": {},
   "outputs": [],
   "source": [
    "node[22,354]\n",
    "dia[4,9]"
   ]
  },
  {
   "cell_type": "code",
   "execution_count": 296,
   "metadata": {},
   "outputs": [
    {
     "name": "stdout",
     "output_type": "stream",
     "text": [
      "[23, 395, 390, 23, 390, 388, 380, 400, 394, 23, 396, 23, 22, 28, 388, 393, 388, 24, 389, 390, 22, 28, 394, 27, 386, 24, 387, 399, 22, 391, 390, 398, 390, 23, 394, 23, 24, 398, 389, 25, 394, 22, 22, 394, 22, 395, 392, 25, 395, 24, 24, 393, 22, 23, 389, 23, 407, 22, 391, 26, 22, 392, 393, 23, 393, 24, 396, 393, 22, 22, 24, 393, 392, 390, 23, 22, 24, 394, 391, 391, 389, 22, 379, 23, 22, 395, 22, 26, 24, 22, 394, 23, 29, 393, 384, 388, 391, 389, 389, 387]\n",
      "[22, 2598, 2594, 22, 2615, 2610, 2536, 2617, 2627, 22, 2602, 22, 21, 27, 2581, 2611, 2602, 23, 2542, 2595, 21, 27, 2597, 26, 2608, 23, 2575, 2635, 21, 2609, 2602, 2617, 2585, 22, 2618, 22, 23, 2612, 2617, 24, 2605, 21, 21, 2605, 21, 2617, 2595, 24, 2598, 23, 23, 2611, 21, 22, 2602, 22, 2629, 21, 2616, 25, 21, 2592, 2602, 22, 2603, 23, 2600, 2614, 21, 21, 23, 2596, 2606, 2616, 22, 21, 23, 2623, 2605, 2600, 2592, 21, 2551, 22, 21, 2611, 21, 25, 23, 21, 2614, 22, 28, 2617, 2592, 2602, 2598, 2597, 2602, 2606]\n",
      "[3, 6, 6, 3, 5, 5, 5, 8, 7, 3, 5, 3, 2, 8, 5, 7, 5, 4, 6, 5, 2, 8, 5, 7, 5, 4, 5, 5, 2, 7, 5, 8, 5, 3, 8, 3, 4, 5, 5, 5, 5, 2, 2, 7, 2, 5, 7, 5, 5, 4, 4, 5, 2, 3, 7, 3, 21, 2, 5, 6, 2, 5, 7, 3, 9, 4, 7, 5, 2, 2, 4, 5, 8, 5, 3, 2, 4, 6, 5, 6, 4, 2, 5, 3, 2, 4, 2, 6, 4, 2, 9, 3, 9, 5, 5, 5, 10, 6, 6, 5]\n",
      "[0.0, 0.502628117254444, 0.50216912934075, 0.0, 0.5061876987994631, 0.5112613674188473, 0.4863728780491499, 0.5040076382453672, 0.5078720929744991, 0.0, 0.5141307994894965, 0.0, 0.0, 0.0, 0.49357468279501177, 0.5017299649055476, 0.5023694449512437, 0.0, 0.4873574669288694, 0.4989203273782812, 0.0, 0.0, 0.5131548291320871, 0.0, 0.5104423887179274, 0.0, 0.49920440283492934, 0.5056122108809133, 0.0, 0.5017609503453851, 0.5051636818949585, 0.5069476522294671, 0.49460271654668647, 0.0, 0.5037212092992698, 0.0, 0.0, 0.5119915122382511, 0.5099359845310965, 0.0, 0.5037593900533612, 0.0, 0.0, 0.5032215884586853, 0.0, 0.5024883404524465, 0.49191506369959875, 0.0, 0.5026524415900484, 0.0, 0.0, 0.5042541225431475, 0.0, 0.0, 0.4994536394936535, 0.0, 0.4978132849630838, 0.0, 0.5045753734357641, 0.0, 0.0, 0.4970403102972473, 0.4977021546264583, 0.0, 0.47908057336719156, 0.0, 0.5102342867494752, 0.5076090304978567, 0.0, 0.0, 0.0, 0.49804960130154685, 0.5024770259926303, 0.5067532631628139, 0.0, 0.0, 0.0, 0.5014571519568606, 0.5029667360459387, 0.484060171125086, 0.5041717657759598, 0.0, 0.48249959797556957, 0.0, 0.0, 0.5112631094017148, 0.0, 0.0, 0.0, 0.0, 0.49990854180639976, 0.0, 0.0, 0.5056447830160301, 0.5037076671494636, 0.49523816252836084, 0.4988612295071709, 0.5113778354007578, 0.514535665242036, 0.5014597844826382]\n",
      "[1, 1, 1, 1, 1, 1, 1, 1, 1, 1, 1, 1, 1, 1, 1, 1, 1, 1, 1, 1, 1, 1, 1, 1, 1, 1, 1, 1, 1, 1, 1, 1, 1, 1, 1, 1, 1, 1, 1, 1, 1, 1, 1, 1, 1, 1, 1, 1, 1, 1, 1, 1, 1, 1, 1, 1, 1, 1, 1, 1, 1, 1, 1, 1, 1, 1, 1, 1, 1, 1, 1, 1, 1, 1, 1, 1, 1, 1, 1, 1, 1, 1, 1, 1, 1, 1, 1, 1, 1, 1, 1, 1, 1, 1, 1, 1, 1, 1, 1, 1]\n"
     ]
    }
   ],
   "source": [
    "print(node_sbs)\n",
    "print(edge_sbs)\n",
    "print(dia_sbs)\n",
    "print(clu_sbs)\n",
    "print(cc_sbs)"
   ]
  },
  {
   "cell_type": "code",
   "execution_count": null,
   "metadata": {},
   "outputs": [],
   "source": [
    "node:[23,391]\n",
    "edge:[3,10]"
   ]
  }
 ],
 "metadata": {
  "kernelspec": {
   "display_name": "Python 3",
   "language": "python",
   "name": "python3"
  },
  "language_info": {
   "codemirror_mode": {
    "name": "ipython",
    "version": 3
   },
   "file_extension": ".py",
   "mimetype": "text/x-python",
   "name": "python",
   "nbconvert_exporter": "python",
   "pygments_lexer": "ipython3",
   "version": "3.7.2"
  }
 },
 "nbformat": 4,
 "nbformat_minor": 2
}
